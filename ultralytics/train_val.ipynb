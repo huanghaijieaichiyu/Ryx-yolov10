{
 "cells": [
  {
   "metadata": {},
   "cell_type": "markdown",
   "source": "## This is a scrips for train or valid models",
   "id": "f470a269cfac796d"
  },
  {
   "metadata": {},
   "cell_type": "markdown",
   "source": "# trainer",
   "id": "15310c1957e685bf"
  },
  {
   "metadata": {},
   "cell_type": "markdown",
   "source": "",
   "id": "bd3833ab6613a990"
  },
  {
   "metadata": {},
   "cell_type": "code",
   "outputs": [],
   "execution_count": null,
   "source": "!python train.py --data='your datasets'",
   "id": "855f615b9c9496cb"
  }
 ],
 "metadata": {
  "kernelspec": {
   "display_name": "Python 3",
   "language": "python",
   "name": "python3"
  },
  "language_info": {
   "codemirror_mode": {
    "name": "ipython",
    "version": 2
   },
   "file_extension": ".py",
   "mimetype": "text/x-python",
   "name": "python",
   "nbconvert_exporter": "python",
   "pygments_lexer": "ipython2",
   "version": "2.7.6"
  }
 },
 "nbformat": 4,
 "nbformat_minor": 5
}
